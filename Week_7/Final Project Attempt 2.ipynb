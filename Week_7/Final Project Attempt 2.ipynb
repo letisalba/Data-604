{
 "cells": [
  {
   "cell_type": "code",
   "execution_count": 1,
   "id": "b3bcf06a",
   "metadata": {},
   "outputs": [],
   "source": [
    "# Required libraries\n",
    "import simpy\n",
    "import numpy as np\n",
    "import pandas as pd\n",
    "import random\n",
    "from modsim import *\n",
    "import statistics"
   ]
  },
  {
   "cell_type": "code",
   "execution_count": 2,
   "id": "bf33d18c",
   "metadata": {},
   "outputs": [],
   "source": [
    "wait_times = []"
   ]
  },
  {
   "cell_type": "code",
   "execution_count": 3,
   "id": "53b6dd89",
   "metadata": {},
   "outputs": [],
   "source": [
    "class bike_shop(object):\n",
    "    def __init__(self, env, num_repairs, num_sales, num_random_inq):\n",
    "        self.env = env\n",
    "        #self.floor_person = simpy.Resource(env, num_floor_person)\n",
    "        self.repairs = simpy.Resource(env, num_repairs)\n",
    "        self.sales = simpy.Resource(env, num_sales)\n",
    "        self.random_inq = simpy.Resource(env, num_random_inq)\n",
    "        #self.storage = simpy.Resource(env, num_storage)\n",
    "        #self.exit = exit\n",
    "        \n",
    "    # Setting time it takes for a customer to meet with floor person   \n",
    "    #def meet_floor_person(self, customer):\n",
    "        # min of 2 minutes and max of 10 minutes\n",
    "        #yield self.env.timeout(random.randint(2, 11)) \n",
    "        \n",
    "    # Setting time it takes for customer to be in repairs\n",
    "    def repairs(self, customer):\n",
    "        # min of 10 minutes and max of 3 days in minutes\n",
    "        yield self.env.timeout(random.randint(10, 4321)) \n",
    "    \n",
    "    # Setting time it takes for customer to be in sales\n",
    "    def sales(self, customer):\n",
    "        # min of 15 minutes and max of 45 minutes\n",
    "        yield self.env.timeout(random.randint(15, 46)) \n",
    "    \n",
    "    # Setting time it takes for customer to be in random_inq\n",
    "    def random_inq(self, customer):\n",
    "        # min of 2 minutes and max of 10 minutes\n",
    "        yield self.env.timeout(random.randint(2, 11))    \n",
    "    \n",
    "    # Setting time it takes for customer's bike to be in storage\n",
    "    #def bike_storage(self, customer):\n",
    "        # min of 7 days and max of 365 days in minutes\n",
    "        #yield self.env.timeout(random.randint(10080, 525601))  \n",
    "        \n",
    "    # Setting time it takes for customer to exit\n",
    "    #def exit(self, customer):\n",
    "        # min of 10 minutes and max of 1 hour in minutes\n",
    "        #yield self.env.timeout(random.randint(10, 61))\n",
    "        "
   ]
  },
  {
   "cell_type": "code",
   "execution_count": 4,
   "id": "7ee054ae",
   "metadata": {},
   "outputs": [],
   "source": [
    "# Defining customer's arrival time\n",
    "def customer_arrival(env, customer, bike_shop):\n",
    "    # Customer arrives to bike shop\n",
    "    arrival_time = env.now\n",
    "\n",
    "    # Starting process when customer meets with floor person\n",
    "    '''\n",
    "    Here we are working with a for loop to assess where customer needs\n",
    "    to go: repairs, sales or if it's a random inquiry.\n",
    "    '''\n",
    "    if random.choice([True, False]):\n",
    "        with bike_shop.repairs.request() as request:\n",
    "            yield request\n",
    "            yield env.process(bike_shop.repairs(customer))\n",
    "    elif random.choice([True, False]):\n",
    "        with bike_shop.sales.request() as request:\n",
    "            yield request\n",
    "            yield env.process(bike_shop.sales(customer))\n",
    "    else:\n",
    "        #with bike_shop.random_inq.request() as request:\n",
    "        yield request\n",
    "        yield env.process(bike_shop.random_inq(customer))\n",
    "        \n",
    "    '''\n",
    "    with bike_shop.floor_person.request() as request:\n",
    "        yield request\n",
    "        yield env.process(bike_shop.meet_floor_person(customer))\n",
    "            \n",
    "    with bike_shop.storage.request() as request:\n",
    "        yield request\n",
    "        yield env.process(bike_shop.bike_storage(customer))\n",
    "\n",
    "    with bike_shop.exit.request() as request:\n",
    "        yield request\n",
    "        yield env.process(bike_shop.exit(customer))\n",
    "    '''    \n",
    "            \n",
    "    # Customer heads to choice\n",
    "    wait_times.append(env.now - arrival_time)\n"
   ]
  },
  {
   "cell_type": "code",
   "execution_count": 5,
   "id": "fcfab17f",
   "metadata": {},
   "outputs": [],
   "source": [
    "def gets_service(env, num_repairs, num_sales, num_random_inq):\n",
    "    service = bike_shop(env, num_repairs, num_sales, num_random_inq)\n",
    "    \n",
    "    for customer in range(3):\n",
    "        env.process(customer_arrival(env, customer, bike_shop))\n",
    "        \n",
    "                 \n",
    "    # Wait a bit before generating another customer\n",
    "    while True:\n",
    "        yield env.timeout(10) # 5 minutes\n",
    "        \n",
    "        # Incrementing customer by 1 and generating the next customer\n",
    "        customer += 1\n",
    "        env.process(customer_arrival(env, customer, bike_shop))"
   ]
  },
  {
   "cell_type": "code",
   "execution_count": 6,
   "id": "e2141ff3",
   "metadata": {},
   "outputs": [],
   "source": [
    "# Calculating wait time\n",
    "\n",
    "def get_average_wait_time(wait_times):\n",
    "    average_wait = statistics.mean(wait_times)\n",
    "     # Print the results\n",
    "    minutes, frac_minutes = divmod(average_wait, 10)\n",
    "    seconds = frac_minutes * 60\n",
    "    return round(minutes), round(seconds)"
   ]
  },
  {
   "cell_type": "code",
   "execution_count": 7,
   "id": "a857c4ec",
   "metadata": {},
   "outputs": [],
   "source": [
    "# Choosing parameters\n",
    "\n",
    "def get_user_input():\n",
    "    #num_floor_person = input(\"Input # of people working the floor: \")\n",
    "    num_repairs = input(\"Input # of repairs being worked on: \")\n",
    "    num_sales= input(\"Input # of sales done: \")\n",
    "    num_random_inq = input(\"Input # of random inquiries: \")\n",
    "    #num_storage = input(\"Input # of bikes in storage: \")\n",
    "    #num_exit = input(\"Input # of customers that exit the shop: \")\n",
    "    params = [num_repairs, num_sales, num_random_inq]\n",
    "    if all(str(i).isdigit() for i in params):  # Check input is valid\n",
    "        params = [int(x) for x in params]\n",
    "    else:\n",
    "        print(\n",
    "            \"Could not parse input. The simulation will use default values:\",\n",
    "            \"\\n1 repairs, 1 sales, 1 random inquiries.\",\n",
    "        )\n",
    "        params = [1, 1, 1]\n",
    "    return params\n"
   ]
  },
  {
   "cell_type": "code",
   "execution_count": 8,
   "id": "daed53dd",
   "metadata": {},
   "outputs": [],
   "source": [
    "# Finalizing the setup\n",
    "def main():\n",
    "    # Setup\n",
    "    random.seed(42)\n",
    "    num_repairs, num_sales, num_random_inq = get_user_input()\n",
    "    \n",
    "    # Run the simulation\n",
    "    env = simpy.Environment()\n",
    "    env.process(gets_service(env, num_repairs, num_sales, num_random_inq))\n",
    "    env.run(until = 480) # running the process for 8 hours in minutes\n",
    "    \n",
    "    # View the results\n",
    "    mins, secs = get_avarage_wait_time(wait_times)\n",
    "    print(\"Running simulation...\", f\"\\nThe average wait time is {mins} minutes and {secs} seconds.\",)\n"
   ]
  },
  {
   "cell_type": "code",
   "execution_count": 9,
   "id": "2b7959c5",
   "metadata": {},
   "outputs": [
    {
     "name": "stdout",
     "output_type": "stream",
     "text": [
      "Input # of repairs being worked on: 1\n",
      "Input # of sales done: 1\n",
      "Input # of random inquiries: 1\n"
     ]
    },
    {
     "ename": "AttributeError",
     "evalue": "'function' object has no attribute 'request'",
     "output_type": "error",
     "traceback": [
      "\u001b[0;31m---------------------------------------------------------------------------\u001b[0m",
      "\u001b[0;31mAttributeError\u001b[0m                            Traceback (most recent call last)",
      "\u001b[0;32m/var/folders/xs/s7qlj6l16qj7704tpbyx6rr80000gn/T/ipykernel_49391/1265275525.py\u001b[0m in \u001b[0;36mcustomer_arrival\u001b[0;34m(env, customer, bike_shop)\u001b[0m\n\u001b[1;32m     11\u001b[0m     \u001b[0;32mif\u001b[0m \u001b[0mrandom\u001b[0m\u001b[0;34m.\u001b[0m\u001b[0mchoice\u001b[0m\u001b[0;34m(\u001b[0m\u001b[0;34m[\u001b[0m\u001b[0;32mTrue\u001b[0m\u001b[0;34m,\u001b[0m \u001b[0;32mFalse\u001b[0m\u001b[0;34m]\u001b[0m\u001b[0;34m)\u001b[0m\u001b[0;34m:\u001b[0m\u001b[0;34m\u001b[0m\u001b[0;34m\u001b[0m\u001b[0m\n\u001b[0;32m---> 12\u001b[0;31m         \u001b[0;32mwith\u001b[0m \u001b[0mbike_shop\u001b[0m\u001b[0;34m.\u001b[0m\u001b[0mrepairs\u001b[0m\u001b[0;34m.\u001b[0m\u001b[0mrequest\u001b[0m\u001b[0;34m(\u001b[0m\u001b[0;34m)\u001b[0m \u001b[0;32mas\u001b[0m \u001b[0mrequest\u001b[0m\u001b[0;34m:\u001b[0m\u001b[0;34m\u001b[0m\u001b[0;34m\u001b[0m\u001b[0m\n\u001b[0m\u001b[1;32m     13\u001b[0m             \u001b[0;32myield\u001b[0m \u001b[0mrequest\u001b[0m\u001b[0;34m\u001b[0m\u001b[0;34m\u001b[0m\u001b[0m\n",
      "\u001b[0;31mAttributeError\u001b[0m: 'function' object has no attribute 'request'",
      "\nThe above exception was the direct cause of the following exception:\n",
      "\u001b[0;31mAttributeError\u001b[0m                            Traceback (most recent call last)",
      "\u001b[0;32m/var/folders/xs/s7qlj6l16qj7704tpbyx6rr80000gn/T/ipykernel_49391/3912054402.py\u001b[0m in \u001b[0;36m<module>\u001b[0;34m\u001b[0m\n\u001b[1;32m      1\u001b[0m \u001b[0;31m# Run the simulation\u001b[0m\u001b[0;34m\u001b[0m\u001b[0;34m\u001b[0m\u001b[0m\n\u001b[1;32m      2\u001b[0m \u001b[0;32mif\u001b[0m \u001b[0m__name__\u001b[0m \u001b[0;34m==\u001b[0m \u001b[0;34m\"__main__\"\u001b[0m\u001b[0;34m:\u001b[0m\u001b[0;34m\u001b[0m\u001b[0;34m\u001b[0m\u001b[0m\n\u001b[0;32m----> 3\u001b[0;31m     \u001b[0mmain\u001b[0m\u001b[0;34m(\u001b[0m\u001b[0;34m)\u001b[0m\u001b[0;34m\u001b[0m\u001b[0;34m\u001b[0m\u001b[0m\n\u001b[0m",
      "\u001b[0;32m/var/folders/xs/s7qlj6l16qj7704tpbyx6rr80000gn/T/ipykernel_49391/1444224378.py\u001b[0m in \u001b[0;36mmain\u001b[0;34m()\u001b[0m\n\u001b[1;32m      8\u001b[0m     \u001b[0menv\u001b[0m \u001b[0;34m=\u001b[0m \u001b[0msimpy\u001b[0m\u001b[0;34m.\u001b[0m\u001b[0mEnvironment\u001b[0m\u001b[0;34m(\u001b[0m\u001b[0;34m)\u001b[0m\u001b[0;34m\u001b[0m\u001b[0;34m\u001b[0m\u001b[0m\n\u001b[1;32m      9\u001b[0m     \u001b[0menv\u001b[0m\u001b[0;34m.\u001b[0m\u001b[0mprocess\u001b[0m\u001b[0;34m(\u001b[0m\u001b[0mgets_service\u001b[0m\u001b[0;34m(\u001b[0m\u001b[0menv\u001b[0m\u001b[0;34m,\u001b[0m \u001b[0mnum_repairs\u001b[0m\u001b[0;34m,\u001b[0m \u001b[0mnum_sales\u001b[0m\u001b[0;34m,\u001b[0m \u001b[0mnum_random_inq\u001b[0m\u001b[0;34m)\u001b[0m\u001b[0;34m)\u001b[0m\u001b[0;34m\u001b[0m\u001b[0;34m\u001b[0m\u001b[0m\n\u001b[0;32m---> 10\u001b[0;31m     \u001b[0menv\u001b[0m\u001b[0;34m.\u001b[0m\u001b[0mrun\u001b[0m\u001b[0;34m(\u001b[0m\u001b[0muntil\u001b[0m \u001b[0;34m=\u001b[0m \u001b[0;36m480\u001b[0m\u001b[0;34m)\u001b[0m \u001b[0;31m# running the process for 8 hours in minutes\u001b[0m\u001b[0;34m\u001b[0m\u001b[0;34m\u001b[0m\u001b[0m\n\u001b[0m\u001b[1;32m     11\u001b[0m \u001b[0;34m\u001b[0m\u001b[0m\n\u001b[1;32m     12\u001b[0m     \u001b[0;31m# View the results\u001b[0m\u001b[0;34m\u001b[0m\u001b[0;34m\u001b[0m\u001b[0m\n",
      "\u001b[0;32m~/opt/anaconda3/lib/python3.9/site-packages/simpy/core.py\u001b[0m in \u001b[0;36mrun\u001b[0;34m(self, until)\u001b[0m\n\u001b[1;32m    252\u001b[0m         \u001b[0;32mtry\u001b[0m\u001b[0;34m:\u001b[0m\u001b[0;34m\u001b[0m\u001b[0;34m\u001b[0m\u001b[0m\n\u001b[1;32m    253\u001b[0m             \u001b[0;32mwhile\u001b[0m \u001b[0;32mTrue\u001b[0m\u001b[0;34m:\u001b[0m\u001b[0;34m\u001b[0m\u001b[0;34m\u001b[0m\u001b[0m\n\u001b[0;32m--> 254\u001b[0;31m                 \u001b[0mself\u001b[0m\u001b[0;34m.\u001b[0m\u001b[0mstep\u001b[0m\u001b[0;34m(\u001b[0m\u001b[0;34m)\u001b[0m\u001b[0;34m\u001b[0m\u001b[0;34m\u001b[0m\u001b[0m\n\u001b[0m\u001b[1;32m    255\u001b[0m         \u001b[0;32mexcept\u001b[0m \u001b[0mStopSimulation\u001b[0m \u001b[0;32mas\u001b[0m \u001b[0mexc\u001b[0m\u001b[0;34m:\u001b[0m\u001b[0;34m\u001b[0m\u001b[0;34m\u001b[0m\u001b[0m\n\u001b[1;32m    256\u001b[0m             \u001b[0;32mreturn\u001b[0m \u001b[0mexc\u001b[0m\u001b[0;34m.\u001b[0m\u001b[0margs\u001b[0m\u001b[0;34m[\u001b[0m\u001b[0;36m0\u001b[0m\u001b[0;34m]\u001b[0m  \u001b[0;31m# == until.value\u001b[0m\u001b[0;34m\u001b[0m\u001b[0;34m\u001b[0m\u001b[0m\n",
      "\u001b[0;32m~/opt/anaconda3/lib/python3.9/site-packages/simpy/core.py\u001b[0m in \u001b[0;36mstep\u001b[0;34m(self)\u001b[0m\n\u001b[1;32m    204\u001b[0m             \u001b[0mexc\u001b[0m \u001b[0;34m=\u001b[0m \u001b[0mtype\u001b[0m\u001b[0;34m(\u001b[0m\u001b[0mevent\u001b[0m\u001b[0;34m.\u001b[0m\u001b[0m_value\u001b[0m\u001b[0;34m)\u001b[0m\u001b[0;34m(\u001b[0m\u001b[0;34m*\u001b[0m\u001b[0mevent\u001b[0m\u001b[0;34m.\u001b[0m\u001b[0m_value\u001b[0m\u001b[0;34m.\u001b[0m\u001b[0margs\u001b[0m\u001b[0;34m)\u001b[0m\u001b[0;34m\u001b[0m\u001b[0;34m\u001b[0m\u001b[0m\n\u001b[1;32m    205\u001b[0m             \u001b[0mexc\u001b[0m\u001b[0;34m.\u001b[0m\u001b[0m__cause__\u001b[0m \u001b[0;34m=\u001b[0m \u001b[0mevent\u001b[0m\u001b[0;34m.\u001b[0m\u001b[0m_value\u001b[0m\u001b[0;34m\u001b[0m\u001b[0;34m\u001b[0m\u001b[0m\n\u001b[0;32m--> 206\u001b[0;31m             \u001b[0;32mraise\u001b[0m \u001b[0mexc\u001b[0m\u001b[0;34m\u001b[0m\u001b[0;34m\u001b[0m\u001b[0m\n\u001b[0m\u001b[1;32m    207\u001b[0m \u001b[0;34m\u001b[0m\u001b[0m\n\u001b[1;32m    208\u001b[0m     def run(\n",
      "\u001b[0;31mAttributeError\u001b[0m: 'function' object has no attribute 'request'"
     ]
    }
   ],
   "source": [
    "# Run the simulation\n",
    "if __name__ == \"__main__\":\n",
    "    main()"
   ]
  },
  {
   "cell_type": "markdown",
   "id": "6e69210c",
   "metadata": {},
   "source": []
  },
  {
   "cell_type": "code",
   "execution_count": null,
   "id": "8f5d0eea",
   "metadata": {},
   "outputs": [],
   "source": []
  },
  {
   "cell_type": "code",
   "execution_count": null,
   "id": "3ada1536",
   "metadata": {},
   "outputs": [],
   "source": []
  },
  {
   "cell_type": "code",
   "execution_count": null,
   "id": "a8b2ceb4",
   "metadata": {},
   "outputs": [],
   "source": []
  },
  {
   "cell_type": "code",
   "execution_count": null,
   "id": "b6e652c5",
   "metadata": {},
   "outputs": [],
   "source": []
  },
  {
   "cell_type": "code",
   "execution_count": null,
   "id": "85b238f0",
   "metadata": {},
   "outputs": [],
   "source": []
  },
  {
   "cell_type": "code",
   "execution_count": null,
   "id": "fcb02fea",
   "metadata": {},
   "outputs": [],
   "source": []
  },
  {
   "cell_type": "code",
   "execution_count": null,
   "id": "e4dc2e52",
   "metadata": {},
   "outputs": [],
   "source": []
  },
  {
   "cell_type": "code",
   "execution_count": null,
   "id": "cace2ef2",
   "metadata": {},
   "outputs": [],
   "source": []
  },
  {
   "cell_type": "code",
   "execution_count": null,
   "id": "645896a7",
   "metadata": {},
   "outputs": [],
   "source": []
  },
  {
   "cell_type": "code",
   "execution_count": null,
   "id": "76373b69",
   "metadata": {},
   "outputs": [],
   "source": []
  },
  {
   "cell_type": "code",
   "execution_count": null,
   "id": "9aba4ee4",
   "metadata": {},
   "outputs": [],
   "source": []
  }
 ],
 "metadata": {
  "kernelspec": {
   "display_name": "Python 3 (ipykernel)",
   "language": "python",
   "name": "python3"
  },
  "language_info": {
   "codemirror_mode": {
    "name": "ipython",
    "version": 3
   },
   "file_extension": ".py",
   "mimetype": "text/x-python",
   "name": "python",
   "nbconvert_exporter": "python",
   "pygments_lexer": "ipython3",
   "version": "3.9.7"
  }
 },
 "nbformat": 4,
 "nbformat_minor": 5
}
