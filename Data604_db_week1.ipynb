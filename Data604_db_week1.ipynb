{
 "cells": [
  {
   "cell_type": "markdown",
   "id": "e62351ed",
   "metadata": {},
   "source": [
    "Leticia Salazar\n",
    "June 1, 2022\n",
    "Data 604 - Discussion Board Week 1"
   ]
  },
  {
   "cell_type": "code",
   "execution_count": 12,
   "id": "189dbe37",
   "metadata": {},
   "outputs": [],
   "source": [
    "import random"
   ]
  },
  {
   "cell_type": "code",
   "execution_count": 13,
   "id": "cdfdc39d",
   "metadata": {},
   "outputs": [
    {
     "name": "stdout",
     "output_type": "stream",
     "text": [
      "Rolled 13 20 times, or 0.02 %\n",
      "Rolled 24 79 times, or 0.08 %\n",
      "Rolled 30 16 times, or 0.02 %\n",
      "Rolled 20 106 times, or 0.11 %\n",
      "Rolled 32 3 times, or 0.00 %\n",
      "Rolled 27 34 times, or 0.03 %\n",
      "Rolled 19 80 times, or 0.08 %\n",
      "Rolled 18 67 times, or 0.07 %\n",
      "Rolled 21 88 times, or 0.09 %\n",
      "Rolled 15 44 times, or 0.04 %\n",
      "Rolled 17 53 times, or 0.05 %\n",
      "Rolled 23 84 times, or 0.08 %\n",
      "Rolled 28 22 times, or 0.02 %\n",
      "Rolled 26 48 times, or 0.05 %\n",
      "Rolled 25 49 times, or 0.05 %\n",
      "Rolled 14 21 times, or 0.02 %\n",
      "Rolled 16 37 times, or 0.04 %\n",
      "Rolled 22 100 times, or 0.10 %\n",
      "Rolled 11 8 times, or 0.01 %\n",
      "Rolled 12 9 times, or 0.01 %\n",
      "Rolled 29 15 times, or 0.01 %\n",
      "Rolled 31 11 times, or 0.01 %\n",
      "Rolled 33 1 times, or 0.00 %\n",
      "Rolled 9 1 times, or 0.00 %\n",
      "Rolled 34 1 times, or 0.00 %\n",
      "Rolled 7 1 times, or 0.00 %\n",
      "Rolled 10 2 times, or 0.00 %\n"
     ]
    }
   ],
   "source": [
    "# rolling 6 6 sided dice\n",
    "\n",
    "results = {}\n",
    "\n",
    "for i in range(1000):\n",
    "    d1 = random.randint(1,6)\n",
    "    d2 = random.randint(1,6)\n",
    "    d3 = random.randint(1,6)\n",
    "    d4 = random.randint(1,6)\n",
    "    d5 = random.randint(1,6)\n",
    "    d6 = random.randint(1,6)\n",
    "    \n",
    "# Used stackoverflow users to help with the following code:\n",
    "    results[d1+d2+d3+d4+d5+d6] = results.setdefault(d1+d2+d3+d4+d5+d6, 0) + 1\n",
    "\n",
    "for roll, count in results.items():\n",
    "    print('Rolled %d %d times, or %.2f %%' % (roll, count, count/1000)) "
   ]
  },
  {
   "cell_type": "markdown",
   "id": "20dad3d5",
   "metadata": {},
   "source": [
    "References:\n",
    "\n",
    "* Used stackoverflow to help me with the code (https://stackoverflow.com/questions/22441193/python-rolled-2-6-side-die-1000-times)"
   ]
  }
 ],
 "metadata": {
  "kernelspec": {
   "display_name": "Python 3 (ipykernel)",
   "language": "python",
   "name": "python3"
  },
  "language_info": {
   "codemirror_mode": {
    "name": "ipython",
    "version": 3
   },
   "file_extension": ".py",
   "mimetype": "text/x-python",
   "name": "python",
   "nbconvert_exporter": "python",
   "pygments_lexer": "ipython3",
   "version": "3.9.7"
  }
 },
 "nbformat": 4,
 "nbformat_minor": 5
}
