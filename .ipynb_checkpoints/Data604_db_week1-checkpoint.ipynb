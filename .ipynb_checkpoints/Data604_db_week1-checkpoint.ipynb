{
 "cells": [
  {
   "cell_type": "markdown",
   "id": "17c2a76e",
   "metadata": {},
   "source": [
    "Leticia Salazar\n",
    "June 1, 2022\n",
    "Data 604 - Discussion Board Week 1"
   ]
  },
  {
   "cell_type": "code",
   "execution_count": 2,
   "id": "694654ef",
   "metadata": {},
   "outputs": [],
   "source": [
    "import random"
   ]
  },
  {
   "cell_type": "code",
   "execution_count": 3,
   "id": "14b874aa",
   "metadata": {
    "scrolled": true
   },
   "outputs": [
    {
     "name": "stdout",
     "output_type": "stream",
     "text": [
      "Rolled 25 65 times, or 0.07 %\n",
      "Rolled 26 40 times, or 0.04 %\n",
      "Rolled 17 61 times, or 0.06 %\n",
      "Rolled 19 87 times, or 0.09 %\n",
      "Rolled 14 16 times, or 0.02 %\n",
      "Rolled 16 41 times, or 0.04 %\n",
      "Rolled 15 34 times, or 0.03 %\n",
      "Rolled 27 38 times, or 0.04 %\n",
      "Rolled 29 17 times, or 0.02 %\n",
      "Rolled 21 99 times, or 0.10 %\n",
      "Rolled 28 28 times, or 0.03 %\n",
      "Rolled 23 75 times, or 0.07 %\n",
      "Rolled 20 92 times, or 0.09 %\n",
      "Rolled 24 76 times, or 0.08 %\n",
      "Rolled 18 82 times, or 0.08 %\n",
      "Rolled 30 7 times, or 0.01 %\n",
      "Rolled 22 103 times, or 0.10 %\n",
      "Rolled 31 3 times, or 0.00 %\n",
      "Rolled 12 12 times, or 0.01 %\n",
      "Rolled 13 12 times, or 0.01 %\n",
      "Rolled 9 3 times, or 0.00 %\n",
      "Rolled 11 3 times, or 0.00 %\n",
      "Rolled 10 1 times, or 0.00 %\n",
      "Rolled 8 2 times, or 0.00 %\n",
      "Rolled 32 3 times, or 0.00 %\n"
     ]
    }
   ],
   "source": [
    "# rolling 6 6 sided dice\n",
    "\n",
    "results = {}\n",
    "\n",
    "for i in range(1000):\n",
    "    d1 = random.randint(1,6)\n",
    "    d2 = random.randint(1,6)\n",
    "    d3 = random.randint(1,6)\n",
    "    d4 = random.randint(1,6)\n",
    "    d5 = random.randint(1,6)\n",
    "    d6 = random.randint(1,6)\n",
    "    \n",
    "# Used stackoverflow users to help with the following code:\n",
    "    results[d1+d2+d3+d4+d5+d6] = results.setdefault(d1+d2+d3+d4+d5+d6, 0) + 1\n",
    "\n",
    "for roll, count in results.items():\n",
    "    print('Rolled %d %d times, or %.2f %%' % (roll, count, count/1000)) "
   ]
  },
  {
   "cell_type": "markdown",
   "id": "8151faf6",
   "metadata": {},
   "source": [
    "References:\n",
    "\n",
    "* Used stackoverflow to help me with the code (https://stackoverflow.com/questions/22441193/python-rolled-2-6-side-die-1000-times)"
   ]
  }
 ],
 "metadata": {
  "kernelspec": {
   "display_name": "Python 3 (ipykernel)",
   "language": "python",
   "name": "python3"
  },
  "language_info": {
   "codemirror_mode": {
    "name": "ipython",
    "version": 3
   },
   "file_extension": ".py",
   "mimetype": "text/x-python",
   "name": "python",
   "nbconvert_exporter": "python",
   "pygments_lexer": "ipython3",
   "version": "3.9.7"
  }
 },
 "nbformat": 4,
 "nbformat_minor": 5
}
