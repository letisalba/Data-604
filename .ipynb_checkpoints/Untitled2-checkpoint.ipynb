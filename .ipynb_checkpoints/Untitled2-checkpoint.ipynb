{
 "cells": [
  {
   "cell_type": "code",
   "execution_count": 1,
   "id": "75ba988e",
   "metadata": {},
   "outputs": [],
   "source": [
    "#Import required libraries\n",
    "import simpy\n",
    "import numpy as np\n",
    "import pandas as pd\n",
    "import random"
   ]
  },
  {
   "cell_type": "code",
   "execution_count": 2,
   "id": "06dece73",
   "metadata": {},
   "outputs": [],
   "source": [
    "#set seed and simulation time\n",
    "seed = 500\n",
    "simulation_time = 8 #Bank operational hours"
   ]
  },
  {
   "cell_type": "code",
   "execution_count": 3,
   "id": "0426c501",
   "metadata": {},
   "outputs": [],
   "source": [
    "np.random.seed(seed)\n",
    "#Report here is being generated as a global variable\n",
    "report = pd.DataFrame(columns = ['Customer Id', 'Service', 'Arrival Time', 'Token Time', 'Service Start Time', 'Service Stop Time'])"
   ]
  },
  {
   "cell_type": "code",
   "execution_count": 4,
   "id": "6de7a5c4",
   "metadata": {},
   "outputs": [],
   "source": [
    "#Function to generate arrival, 5 to 10 customers per 60 mins\n",
    "def customer_arrival(): #Arrival rate 1 - 20 per hour\n",
    "    return np.random.exponential(15.0/np.random.randint(2,6))"
   ]
  },
  {
   "cell_type": "code",
   "execution_count": 5,
   "id": "b5b92a64",
   "metadata": {},
   "outputs": [],
   "source": [
    "#Function to return time generated for teller service\n",
    "def repair_service():\n",
    "    return np.random.triangular(10,45,60)"
   ]
  },
  {
   "cell_type": "code",
   "execution_count": 6,
   "id": "3b0ac0c3",
   "metadata": {},
   "outputs": [],
   "source": [
    "#Function to return time generated for foreign exchange servive\n",
    "def sales_service():\n",
    "    return np.random.triangular(15,45,60)"
   ]
  },
  {
   "cell_type": "code",
   "execution_count": 7,
   "id": "7ccb52ff",
   "metadata": {},
   "outputs": [],
   "source": [
    "#Function to return time generated for foreign exchange servive\n",
    "def random_service():\n",
    "    return np.random.triangular(1,2,5)"
   ]
  },
  {
   "cell_type": "code",
   "execution_count": 8,
   "id": "b01619db",
   "metadata": {},
   "outputs": [],
   "source": [
    "def bike_shop(env,  repair, sales, random):\n",
    "    global current_hour\n",
    "    i = 0 #counter for customer\n",
    "    while True: #running time 6 hours\n",
    "\n",
    "        Service = np.random.choice(['Repair', 'Sales', 'Random'], p=[0.85, 0.1, 0.05]) #random.choices(services, weights=(10, 90)   \n",
    "        i += 1\n",
    "        yield env.timeout(customer_arrival())\n",
    "        env.process(customer(env, i,  repair, sales, random, Service))"
   ]
  },
  {
   "cell_type": "code",
   "execution_count": 9,
   "id": "70210014",
   "metadata": {},
   "outputs": [],
   "source": [
    "#function generates report for each customer\n",
    "def customer(env, customer, repair, sales, random, Service):\n",
    "    \n",
    "    global report #access the global variable\n",
    "\n",
    "    if Service == 'Sales':\n",
    "        req = sales\n",
    "    else:\n",
    "        req = repair\n",
    "    \n",
    "    with sales.request() as request:\n",
    "        arrival_time = env.now #starts the clock\n",
    "        #print(arrival_time, '\\tCustomer {} arrives'.format(customer))\n",
    "        yield env.timeout(1/2) # Token generation time of 30 seconds\n",
    "        token_time = env.now #records time at which token is taken\n",
    "        #print(token_time, '\\tCustomer {} took a token'.format(customer))\n",
    "        yield request\n",
    "        service_start_time = env.now #service starts \n",
    "        #print(service_start_time, '\\tCustomer {} is being served at {}'.format(customer, Service))\n",
    "        if Service == 'Sales':\n",
    "            yield env.timeout(sales_service())\n",
    "        else:\n",
    "            yield env.timeout(repair_service())\n",
    "        service_stop_time = env.now \n",
    "        #record the data generated\n",
    "        row = pd.DataFrame([['Customer_{}'.format(customer), Service, arrival_time, token_time, service_start_time, service_stop_time]],\n",
    "                          columns = ['Customer Id', 'Service', 'Arrival Time', 'Token Time','Service Start Time', 'Service Stop Time'])\n",
    "       \n",
    "        report = report.append(row, ignore_index = True, sort = False)\n",
    "        #Calculations for wait time\n",
    "        report['Token Time (Secs)'] =  60 * ( report['Token Time'] - report['Arrival Time'])\n",
    "        report['Service Time (Mins)'] =  (report['Service Stop Time'] - report['Service Start Time'])\n",
    "        report['Wait Time (Mins)'] =  ( report['Service Start Time'] - report['Token Time'] )\n"
   ]
  },
  {
   "cell_type": "code",
   "execution_count": 10,
   "id": "ed12f6c4",
   "metadata": {},
   "outputs": [],
   "source": [
    "#Running it in a model\n",
    "def model(nruns, nrepair, nsales, nrandom): #pass in no of runs for simulation, capacity teller, capacity exchange\n",
    "    #initialise\n",
    "    Repair=[] \n",
    "    Sales=[]\n",
    "    Random=[]\n",
    "    avg_wait_time = []\n",
    "    sales_wait_time = []\n",
    "    repair_wait_time = []\n",
    "    random_wait_time = []\n",
    "    global report\n",
    "    for j in range(nruns):\n",
    "        report = report[0:0]\n",
    "        env = simpy.Environment()\n",
    "        env.initial_time = 0\n",
    "        # resource\n",
    "        repair = simpy.Resource(env, capacity=nrepair) #assign teller as resource\n",
    "        sales = simpy.Resource(env, capacity=nsales) #assign exchange as resource\n",
    "        random = simpy.Resource(env, capacity=nrandom) \n",
    "        env.process(bike_shop(env, repair, sales, random))\n",
    "        env.run(until = 8 * 60) #run for 8 hours\n",
    "        \n",
    "        \n",
    "        Sales=report[report.Service.isin(['Sales'])] #separate to calculate mean later\n",
    "        Repair=report[report.Service.isin(['Repair'])]\n",
    "        Random=report[report.Service.isin(['Random'])]\n",
    "    \n",
    "        avg_wait=report['Wait Time (Mins)'].mean() #Calculate average time\n",
    "        avg_wait_repair=Repair['Wait Time (Mins)'].mean()\n",
    "        avg_wait_sales=Sales['Wait Time (Mins)'].mean()\n",
    "        avg_wait_random=Random['Wait Time (Mins)'].mean()\n",
    "    \n",
    "        #print('Average wait time:', avg_wait)\n",
    "        #print('Average wait time teller:', avg_wait_teller)\n",
    "        #print('Average wait time exchange:', avg_wait_exchange)\n",
    "    \n",
    "        avg_wait_time.append(avg_wait)\n",
    "        sales_wait_time.append(avg_wait_sales)\n",
    "        repair_wait_time.append(avg_wait_repair)\n",
    "        random_wait_time.append(avg_wait_random)\n",
    "        \n",
    "    #Save in a dataframe\n",
    "    new_dict = {\"avg_wait\": avg_wait_time, \"sales_wait\": sales_wait_time, \"repair_wait\": repair_wait_time, \"random_wait\": random_wait_time }\n",
    "    \n",
    "    global new_df\n",
    "    new_df = pd.DataFrame(new_dict)\n",
    "    fig=new_df.boxplot(grid=False, widths=0.5)\n",
    "    return new_df\n",
    "    return fig"
   ]
  },
  {
   "cell_type": "code",
   "execution_count": 11,
   "id": "0a659037",
   "metadata": {},
   "outputs": [
    {
     "data": {
      "text/html": [
       "<div>\n",
       "<style scoped>\n",
       "    .dataframe tbody tr th:only-of-type {\n",
       "        vertical-align: middle;\n",
       "    }\n",
       "\n",
       "    .dataframe tbody tr th {\n",
       "        vertical-align: top;\n",
       "    }\n",
       "\n",
       "    .dataframe thead th {\n",
       "        text-align: right;\n",
       "    }\n",
       "</style>\n",
       "<table border=\"1\" class=\"dataframe\">\n",
       "  <thead>\n",
       "    <tr style=\"text-align: right;\">\n",
       "      <th></th>\n",
       "      <th>avg_wait</th>\n",
       "      <th>sales_wait</th>\n",
       "      <th>repair_wait</th>\n",
       "      <th>random_wait</th>\n",
       "    </tr>\n",
       "  </thead>\n",
       "  <tbody>\n",
       "    <tr>\n",
       "      <th>0</th>\n",
       "      <td>184.929479</td>\n",
       "      <td>168.415103</td>\n",
       "      <td>191.533582</td>\n",
       "      <td>165.125407</td>\n",
       "    </tr>\n",
       "    <tr>\n",
       "      <th>1</th>\n",
       "      <td>163.789169</td>\n",
       "      <td>NaN</td>\n",
       "      <td>163.993564</td>\n",
       "      <td>161.540827</td>\n",
       "    </tr>\n",
       "    <tr>\n",
       "      <th>2</th>\n",
       "      <td>200.881421</td>\n",
       "      <td>21.353058</td>\n",
       "      <td>236.787094</td>\n",
       "      <td>NaN</td>\n",
       "    </tr>\n",
       "    <tr>\n",
       "      <th>3</th>\n",
       "      <td>198.924106</td>\n",
       "      <td>158.680987</td>\n",
       "      <td>223.250055</td>\n",
       "      <td>84.802750</td>\n",
       "    </tr>\n",
       "    <tr>\n",
       "      <th>4</th>\n",
       "      <td>203.049958</td>\n",
       "      <td>205.822650</td>\n",
       "      <td>182.815581</td>\n",
       "      <td>379.613960</td>\n",
       "    </tr>\n",
       "    <tr>\n",
       "      <th>5</th>\n",
       "      <td>176.490089</td>\n",
       "      <td>0.000000</td>\n",
       "      <td>210.171632</td>\n",
       "      <td>16.164750</td>\n",
       "    </tr>\n",
       "    <tr>\n",
       "      <th>6</th>\n",
       "      <td>176.571503</td>\n",
       "      <td>200.519277</td>\n",
       "      <td>159.066354</td>\n",
       "      <td>286.222288</td>\n",
       "    </tr>\n",
       "    <tr>\n",
       "      <th>7</th>\n",
       "      <td>207.442668</td>\n",
       "      <td>168.934020</td>\n",
       "      <td>215.144397</td>\n",
       "      <td>NaN</td>\n",
       "    </tr>\n",
       "    <tr>\n",
       "      <th>8</th>\n",
       "      <td>175.496842</td>\n",
       "      <td>168.597772</td>\n",
       "      <td>177.378407</td>\n",
       "      <td>NaN</td>\n",
       "    </tr>\n",
       "    <tr>\n",
       "      <th>9</th>\n",
       "      <td>169.238343</td>\n",
       "      <td>NaN</td>\n",
       "      <td>179.167384</td>\n",
       "      <td>119.593140</td>\n",
       "    </tr>\n",
       "    <tr>\n",
       "      <th>10</th>\n",
       "      <td>176.694814</td>\n",
       "      <td>133.218906</td>\n",
       "      <td>200.629122</td>\n",
       "      <td>115.648081</td>\n",
       "    </tr>\n",
       "    <tr>\n",
       "      <th>11</th>\n",
       "      <td>208.310134</td>\n",
       "      <td>174.339304</td>\n",
       "      <td>242.841608</td>\n",
       "      <td>0.000000</td>\n",
       "    </tr>\n",
       "    <tr>\n",
       "      <th>12</th>\n",
       "      <td>198.952644</td>\n",
       "      <td>NaN</td>\n",
       "      <td>199.655416</td>\n",
       "      <td>196.844328</td>\n",
       "    </tr>\n",
       "    <tr>\n",
       "      <th>13</th>\n",
       "      <td>171.414092</td>\n",
       "      <td>71.286969</td>\n",
       "      <td>180.516558</td>\n",
       "      <td>NaN</td>\n",
       "    </tr>\n",
       "    <tr>\n",
       "      <th>14</th>\n",
       "      <td>163.558477</td>\n",
       "      <td>NaN</td>\n",
       "      <td>163.558477</td>\n",
       "      <td>NaN</td>\n",
       "    </tr>\n",
       "    <tr>\n",
       "      <th>15</th>\n",
       "      <td>199.986172</td>\n",
       "      <td>NaN</td>\n",
       "      <td>199.986172</td>\n",
       "      <td>NaN</td>\n",
       "    </tr>\n",
       "    <tr>\n",
       "      <th>16</th>\n",
       "      <td>181.824459</td>\n",
       "      <td>316.230925</td>\n",
       "      <td>169.605689</td>\n",
       "      <td>NaN</td>\n",
       "    </tr>\n",
       "    <tr>\n",
       "      <th>17</th>\n",
       "      <td>189.076378</td>\n",
       "      <td>265.992454</td>\n",
       "      <td>171.434306</td>\n",
       "      <td>211.664939</td>\n",
       "    </tr>\n",
       "    <tr>\n",
       "      <th>18</th>\n",
       "      <td>188.319317</td>\n",
       "      <td>NaN</td>\n",
       "      <td>198.933714</td>\n",
       "      <td>60.946553</td>\n",
       "    </tr>\n",
       "    <tr>\n",
       "      <th>19</th>\n",
       "      <td>194.924206</td>\n",
       "      <td>NaN</td>\n",
       "      <td>186.433687</td>\n",
       "      <td>288.319924</td>\n",
       "    </tr>\n",
       "    <tr>\n",
       "      <th>20</th>\n",
       "      <td>183.038832</td>\n",
       "      <td>NaN</td>\n",
       "      <td>183.038832</td>\n",
       "      <td>NaN</td>\n",
       "    </tr>\n",
       "    <tr>\n",
       "      <th>21</th>\n",
       "      <td>203.052373</td>\n",
       "      <td>325.465635</td>\n",
       "      <td>191.923894</td>\n",
       "      <td>NaN</td>\n",
       "    </tr>\n",
       "  </tbody>\n",
       "</table>\n",
       "</div>"
      ],
      "text/plain": [
       "      avg_wait  sales_wait  repair_wait  random_wait\n",
       "0   184.929479  168.415103   191.533582   165.125407\n",
       "1   163.789169         NaN   163.993564   161.540827\n",
       "2   200.881421   21.353058   236.787094          NaN\n",
       "3   198.924106  158.680987   223.250055    84.802750\n",
       "4   203.049958  205.822650   182.815581   379.613960\n",
       "5   176.490089    0.000000   210.171632    16.164750\n",
       "6   176.571503  200.519277   159.066354   286.222288\n",
       "7   207.442668  168.934020   215.144397          NaN\n",
       "8   175.496842  168.597772   177.378407          NaN\n",
       "9   169.238343         NaN   179.167384   119.593140\n",
       "10  176.694814  133.218906   200.629122   115.648081\n",
       "11  208.310134  174.339304   242.841608     0.000000\n",
       "12  198.952644         NaN   199.655416   196.844328\n",
       "13  171.414092   71.286969   180.516558          NaN\n",
       "14  163.558477         NaN   163.558477          NaN\n",
       "15  199.986172         NaN   199.986172          NaN\n",
       "16  181.824459  316.230925   169.605689          NaN\n",
       "17  189.076378  265.992454   171.434306   211.664939\n",
       "18  188.319317         NaN   198.933714    60.946553\n",
       "19  194.924206         NaN   186.433687   288.319924\n",
       "20  183.038832         NaN   183.038832          NaN\n",
       "21  203.052373  325.465635   191.923894          NaN"
      ]
     },
     "execution_count": 11,
     "metadata": {},
     "output_type": "execute_result"
    },
    {
     "data": {
      "image/png": "[encoded data removed]",
      "text/plain": [
       "<Figure size 432x288 with 1 Axes>"
      ]
     },
     "metadata": {
      "needs_background": "light"
     },
     "output_type": "display_data"
    }
   ],
   "source": [
    "np.random.seed(6758)\n",
    "model(22,5,1,1)\n",
    "\n",
    "#the simulation is run 22 times to mimic the no of working days in a month\n"
   ]
  },
  {
   "cell_type": "code",
   "execution_count": 12,
   "id": "bf029c71",
   "metadata": {},
   "outputs": [
    {
     "data": {
      "text/html": [
       "<div>\n",
       "<style scoped>\n",
       "    .dataframe tbody tr th:only-of-type {\n",
       "        vertical-align: middle;\n",
       "    }\n",
       "\n",
       "    .dataframe tbody tr th {\n",
       "        vertical-align: top;\n",
       "    }\n",
       "\n",
       "    .dataframe thead th {\n",
       "        text-align: right;\n",
       "    }\n",
       "</style>\n",
       "<table border=\"1\" class=\"dataframe\">\n",
       "  <thead>\n",
       "    <tr style=\"text-align: right;\">\n",
       "      <th></th>\n",
       "      <th>Customer Id</th>\n",
       "      <th>Service</th>\n",
       "      <th>Arrival Time</th>\n",
       "      <th>Token Time</th>\n",
       "      <th>Service Start Time</th>\n",
       "      <th>Service Stop Time</th>\n",
       "      <th>Token Time (Secs)</th>\n",
       "      <th>Service Time (Mins)</th>\n",
       "      <th>Wait Time (Mins)</th>\n",
       "    </tr>\n",
       "  </thead>\n",
       "  <tbody>\n",
       "    <tr>\n",
       "      <th>0</th>\n",
       "      <td>Customer_1</td>\n",
       "      <td>Repair</td>\n",
       "      <td>2.953606</td>\n",
       "      <td>3.453606</td>\n",
       "      <td>3.453606</td>\n",
       "      <td>49.700810</td>\n",
       "      <td>30.0</td>\n",
       "      <td>46.247204</td>\n",
       "      <td>0.000000</td>\n",
       "    </tr>\n",
       "    <tr>\n",
       "      <th>1</th>\n",
       "      <td>Customer_2</td>\n",
       "      <td>Repair</td>\n",
       "      <td>3.302813</td>\n",
       "      <td>3.802813</td>\n",
       "      <td>49.700810</td>\n",
       "      <td>88.862297</td>\n",
       "      <td>30.0</td>\n",
       "      <td>39.161487</td>\n",
       "      <td>45.897997</td>\n",
       "    </tr>\n",
       "    <tr>\n",
       "      <th>2</th>\n",
       "      <td>Customer_3</td>\n",
       "      <td>Repair</td>\n",
       "      <td>3.508513</td>\n",
       "      <td>4.008513</td>\n",
       "      <td>88.862297</td>\n",
       "      <td>132.481673</td>\n",
       "      <td>30.0</td>\n",
       "      <td>43.619376</td>\n",
       "      <td>84.853784</td>\n",
       "    </tr>\n",
       "    <tr>\n",
       "      <th>3</th>\n",
       "      <td>Customer_4</td>\n",
       "      <td>Repair</td>\n",
       "      <td>4.023027</td>\n",
       "      <td>4.523027</td>\n",
       "      <td>132.481673</td>\n",
       "      <td>162.203188</td>\n",
       "      <td>30.0</td>\n",
       "      <td>29.721515</td>\n",
       "      <td>127.958646</td>\n",
       "    </tr>\n",
       "    <tr>\n",
       "      <th>4</th>\n",
       "      <td>Customer_5</td>\n",
       "      <td>Repair</td>\n",
       "      <td>5.964265</td>\n",
       "      <td>6.464265</td>\n",
       "      <td>162.203188</td>\n",
       "      <td>183.606039</td>\n",
       "      <td>30.0</td>\n",
       "      <td>21.402851</td>\n",
       "      <td>155.738924</td>\n",
       "    </tr>\n",
       "    <tr>\n",
       "      <th>5</th>\n",
       "      <td>Customer_6</td>\n",
       "      <td>Repair</td>\n",
       "      <td>13.753494</td>\n",
       "      <td>14.253494</td>\n",
       "      <td>183.606039</td>\n",
       "      <td>224.428600</td>\n",
       "      <td>30.0</td>\n",
       "      <td>40.822561</td>\n",
       "      <td>169.352545</td>\n",
       "    </tr>\n",
       "    <tr>\n",
       "      <th>6</th>\n",
       "      <td>Customer_7</td>\n",
       "      <td>Repair</td>\n",
       "      <td>17.974392</td>\n",
       "      <td>18.474392</td>\n",
       "      <td>224.428600</td>\n",
       "      <td>282.144793</td>\n",
       "      <td>30.0</td>\n",
       "      <td>57.716193</td>\n",
       "      <td>205.954208</td>\n",
       "    </tr>\n",
       "    <tr>\n",
       "      <th>7</th>\n",
       "      <td>Customer_8</td>\n",
       "      <td>Repair</td>\n",
       "      <td>18.629252</td>\n",
       "      <td>19.129252</td>\n",
       "      <td>282.144793</td>\n",
       "      <td>309.188070</td>\n",
       "      <td>30.0</td>\n",
       "      <td>27.043277</td>\n",
       "      <td>263.015541</td>\n",
       "    </tr>\n",
       "    <tr>\n",
       "      <th>8</th>\n",
       "      <td>Customer_9</td>\n",
       "      <td>Repair</td>\n",
       "      <td>21.562711</td>\n",
       "      <td>22.062711</td>\n",
       "      <td>309.188070</td>\n",
       "      <td>351.517925</td>\n",
       "      <td>30.0</td>\n",
       "      <td>42.329856</td>\n",
       "      <td>287.125359</td>\n",
       "    </tr>\n",
       "    <tr>\n",
       "      <th>9</th>\n",
       "      <td>Customer_10</td>\n",
       "      <td>Sales</td>\n",
       "      <td>25.552290</td>\n",
       "      <td>26.052290</td>\n",
       "      <td>351.517925</td>\n",
       "      <td>393.585633</td>\n",
       "      <td>30.0</td>\n",
       "      <td>42.067708</td>\n",
       "      <td>325.465635</td>\n",
       "    </tr>\n",
       "    <tr>\n",
       "      <th>10</th>\n",
       "      <td>Customer_11</td>\n",
       "      <td>Repair</td>\n",
       "      <td>25.828088</td>\n",
       "      <td>26.328088</td>\n",
       "      <td>393.585633</td>\n",
       "      <td>432.961170</td>\n",
       "      <td>30.0</td>\n",
       "      <td>39.375537</td>\n",
       "      <td>367.257545</td>\n",
       "    </tr>\n",
       "    <tr>\n",
       "      <th>11</th>\n",
       "      <td>Customer_12</td>\n",
       "      <td>Repair</td>\n",
       "      <td>28.452883</td>\n",
       "      <td>28.952883</td>\n",
       "      <td>432.961170</td>\n",
       "      <td>465.202451</td>\n",
       "      <td>30.0</td>\n",
       "      <td>32.241282</td>\n",
       "      <td>404.008286</td>\n",
       "    </tr>\n",
       "  </tbody>\n",
       "</table>\n",
       "</div>"
      ],
      "text/plain": [
       "    Customer Id Service  Arrival Time  Token Time  Service Start Time  \\\n",
       "0    Customer_1  Repair      2.953606    3.453606            3.453606   \n",
       "1    Customer_2  Repair      3.302813    3.802813           49.700810   \n",
       "2    Customer_3  Repair      3.508513    4.008513           88.862297   \n",
       "3    Customer_4  Repair      4.023027    4.523027          132.481673   \n",
       "4    Customer_5  Repair      5.964265    6.464265          162.203188   \n",
       "5    Customer_6  Repair     13.753494   14.253494          183.606039   \n",
       "6    Customer_7  Repair     17.974392   18.474392          224.428600   \n",
       "7    Customer_8  Repair     18.629252   19.129252          282.144793   \n",
       "8    Customer_9  Repair     21.562711   22.062711          309.188070   \n",
       "9   Customer_10   Sales     25.552290   26.052290          351.517925   \n",
       "10  Customer_11  Repair     25.828088   26.328088          393.585633   \n",
       "11  Customer_12  Repair     28.452883   28.952883          432.961170   \n",
       "\n",
       "    Service Stop Time  Token Time (Secs)  Service Time (Mins)  \\\n",
       "0           49.700810               30.0            46.247204   \n",
       "1           88.862297               30.0            39.161487   \n",
       "2          132.481673               30.0            43.619376   \n",
       "3          162.203188               30.0            29.721515   \n",
       "4          183.606039               30.0            21.402851   \n",
       "5          224.428600               30.0            40.822561   \n",
       "6          282.144793               30.0            57.716193   \n",
       "7          309.188070               30.0            27.043277   \n",
       "8          351.517925               30.0            42.329856   \n",
       "9          393.585633               30.0            42.067708   \n",
       "10         432.961170               30.0            39.375537   \n",
       "11         465.202451               30.0            32.241282   \n",
       "\n",
       "    Wait Time (Mins)  \n",
       "0           0.000000  \n",
       "1          45.897997  \n",
       "2          84.853784  \n",
       "3         127.958646  \n",
       "4         155.738924  \n",
       "5         169.352545  \n",
       "6         205.954208  \n",
       "7         263.015541  \n",
       "8         287.125359  \n",
       "9         325.465635  \n",
       "10        367.257545  \n",
       "11        404.008286  "
      ]
     },
     "execution_count": 12,
     "metadata": {},
     "output_type": "execute_result"
    }
   ],
   "source": [
    "report"
   ]
  },
  {
   "cell_type": "code",
   "execution_count": 18,
   "id": "4c3a46fc",
   "metadata": {},
   "outputs": [
    {
     "name": "stdout",
     "output_type": "stream",
     "text": [
      "Avg wait: 203.05237257616082\n",
      "Avg sales wait: 325.4656354720382\n",
      "Avg repair wait: 191.92389413108106\n",
      "Avg random wait: nan\n"
     ]
    }
   ],
   "source": [
    "#Measures used to verify output during each run\n",
    "print('Avg wait:',report['Wait Time (Mins)'].mean())\n",
    "Sales=report[report.Service.isin(['Sales'])]\n",
    "print('Avg sales wait:',Sales['Wait Time (Mins)'].mean())\n",
    "Repair=report[report.Service.isin(['Repair'])]\n",
    "print('Avg repair wait:',Repair['Wait Time (Mins)'].mean())\n",
    "Random=report[report.Service.isin(['Random'])]\n",
    "print('Avg random wait:',Random['Wait Time (Mins)'].mean())"
   ]
  },
  {
   "cell_type": "code",
   "execution_count": 14,
   "id": "3a312090",
   "metadata": {},
   "outputs": [
    {
     "data": {
      "text/plain": [
       "<AxesSubplot:ylabel='Frequency'>"
      ]
     },
     "execution_count": 14,
     "metadata": {},
     "output_type": "execute_result"
    },
    {
     "data": {
      "image/png": "[encoded data removed]",
      "text/plain": [
       "<Figure size 432x288 with 1 Axes>"
      ]
     },
     "metadata": {
      "needs_background": "light"
     },
     "output_type": "display_data"
    }
   ],
   "source": [
    "report['Wait Time (Mins)'].plot.hist(width = 1.2)"
   ]
  },
  {
   "cell_type": "code",
   "execution_count": 15,
   "id": "6e9b737c",
   "metadata": {},
   "outputs": [
    {
     "data": {
      "text/plain": [
       "<AxesSubplot:>"
      ]
     },
     "execution_count": 15,
     "metadata": {},
     "output_type": "execute_result"
    },
    {
     "data": {
      "image/png": "[encoded data removed]",
      "text/plain": [
       "<Figure size 612x648 with 1 Axes>"
      ]
     },
     "metadata": {
      "needs_background": "light"
     },
     "output_type": "display_data"
    }
   ],
   "source": [
    "\n",
    "report['Wait Time (Mins)'].plot.bar(figsize=(8.5,9))\n",
    "\n",
    "#The plot below shows the customers with wait times, it is easy to identify which customers has a higher wait time."
   ]
  },
  {
   "cell_type": "code",
   "execution_count": 16,
   "id": "b18cd1eb",
   "metadata": {},
   "outputs": [
    {
     "data": {
      "text/plain": [
       "<AxesSubplot:>"
      ]
     },
     "execution_count": 16,
     "metadata": {},
     "output_type": "execute_result"
    },
    {
     "data": {
      "image/png": "[encoded data removed]",
      "text/plain": [
       "<Figure size 360x360 with 1 Axes>"
      ]
     },
     "metadata": {
      "needs_background": "light"
     },
     "output_type": "display_data"
    }
   ],
   "source": [
    "#More interesting is the avg wait time during the month\n",
    "\n",
    "new_df['avg_wait'].plot.bar(figsize=(5,5))\n",
    "\n",
    "#Out of 22 days, average wait time exceeded 10 mins on 2 days. This is less than 10% of the time."
   ]
  },
  {
   "cell_type": "code",
   "execution_count": 17,
   "id": "79b38f39",
   "metadata": {},
   "outputs": [
    {
     "data": {
      "text/plain": [
       "<AxesSubplot:>"
      ]
     },
     "execution_count": 17,
     "metadata": {},
     "output_type": "execute_result"
    },
    {
     "data": {
      "image/png": "[encoded data removed]",
      "text/plain": [
       "<Figure size 432x288 with 1 Axes>"
      ]
     },
     "metadata": {
      "needs_background": "light"
     },
     "output_type": "display_data"
    }
   ],
   "source": [
    "new_df.boxplot(grid=False, widths=0.5)\n",
    "\n",
    "#The boxplot shows thee instances where the avg wait time during the day was too high(exceeded 10 mins). \n",
    "#Most of the customers however have average wait times below 10.\n"
   ]
  },
  {
   "cell_type": "code",
   "execution_count": null,
   "id": "290482cd",
   "metadata": {},
   "outputs": [],
   "source": []
  },
  {
   "cell_type": "code",
   "execution_count": null,
   "id": "19e67c7f",
   "metadata": {},
   "outputs": [],
   "source": []
  }
 ],
 "metadata": {
  "kernelspec": {
   "display_name": "Python 3 (ipykernel)",
   "language": "python",
   "name": "python3"
  },
  "language_info": {
   "codemirror_mode": {
    "name": "ipython",
    "version": 3
   },
   "file_extension": ".py",
   "mimetype": "text/x-python",
   "name": "python",
   "nbconvert_exporter": "python",
   "pygments_lexer": "ipython3",
   "version": "3.9.7"
  }
 },
 "nbformat": 4,
 "nbformat_minor": 5
}
